{
 "cells": [
  {
   "cell_type": "code",
   "execution_count": 1,
   "metadata": {
    "collapsed": true
   },
   "outputs": [],
   "source": [
    "import numpy as np\n",
    "import math\n",
    "import matplotlib.pyplot as plt\n",
    "from pybrain.structure import FeedForwardNetwork\n",
    "from pybrain.structure import LinearLayer, SigmoidLayer, TanhLayer, ReluLayer\n",
    "from pybrain.structure import FullConnection\n",
    "from pybrain.supervised.trainers import BackpropTrainer\n",
    "from pybrain.datasets import SupervisedDataSet\n",
    "%matplotlib inline"
   ]
  },
  {
   "cell_type": "code",
   "execution_count": 2,
   "metadata": {
    "collapsed": false
   },
   "outputs": [],
   "source": [
    "# Lets first consider the dynamics of the system, lets make this final it looks okay.\n",
    "# let the price be anything between 0 and 100\n",
    "def getImpactPrice(price, amount):\n",
    "    if amount < 50:\n",
    "        return max(price*(1-0.0000008*amount*np.sqrt(amount)), 0)\n",
    "    else:\n",
    "        return max(price*(1-0.00000012*amount*amount), 0)\n",
    "        #p = max(price*(1-0.08*amount*amount*amount), 0)"
   ]
  },
  {
   "cell_type": "code",
   "execution_count": 3,
   "metadata": {
    "collapsed": true
   },
   "outputs": [],
   "source": [
    "# to add the random component in the price\n",
    "def addRandom(price):\n",
    "    p = min(100, max(0, price + np.random.normal(0, 0.1)))\n",
    "    return p"
   ]
  },
  {
   "cell_type": "code",
   "execution_count": 51,
   "metadata": {
    "collapsed": true
   },
   "outputs": [],
   "source": [
    "def getRewardState(state, action):\n",
    "    '''it takes current state and action, returns next state and reward generated in this state'''\n",
    "    newState = [0 for s in state]\n",
    "    price = getImpactPrice(state[0], action)\n",
    "    reward = price*action\n",
    "    newState[0] = addRandom(price)\n",
    "    newState[1] = max(state[1] - action, 0)\n",
    "    newState[2] = state[2] + 1\n",
    "    \n",
    "    return (reward, newState)"
   ]
  },
  {
   "cell_type": "code",
   "execution_count": 52,
   "metadata": {
    "collapsed": true
   },
   "outputs": [],
   "source": [
    "# function to get the terminal reward\n",
    "def getTerminalReward(state):\n",
    "    ''' This function will return terminal reward based on terminal state provide'''\n",
    "    price = getImpactPrice(state[0], state[1])\n",
    "    reward = price*state[1]\n",
    "    return reward"
   ]
  },
  {
   "cell_type": "code",
   "execution_count": 53,
   "metadata": {
    "collapsed": true
   },
   "outputs": [],
   "source": [
    "T = 20\n",
    "# as general rule of thumb is to put lambda value as 0.9 in TD(lambda) algo, I would put the same here\n",
    "lambbda = 0.95\n",
    "# implenting actor critic method, lets see if it converges or not\n",
    "# we will consider neural network as function approximater and ploicy approximater as well \n",
    "# input for the neural network will be the state : [price, stock, time]\n",
    "# our neural network architecture will be as follows\n",
    "# input layer will be 3 nodes based on state\n",
    "# output layer will be 2 nodes, one for value and one for policy\n",
    "# right now we will consider 1 hidden layer with 10 nodes, network will be [3,10,2]"
   ]
  },
  {
   "cell_type": "code",
   "execution_count": 54,
   "metadata": {
    "collapsed": false
   },
   "outputs": [],
   "source": [
    "valNet = FeedForwardNetwork()\n",
    "inLayer1 = LinearLayer(3)\n",
    "hiddenLayer1 = TanhLayer(10)\n",
    "outputLayer1 = ReluLayer(1)\n",
    "valNet.addInputModule(inLayer1)\n",
    "valNet.addModule(hiddenLayer1)\n",
    "valNet.addOutputModule(outputLayer1)\n",
    "\n",
    "in_to_hidden1 = FullConnection(inLayer1, hiddenLayer1)\n",
    "hidden_to_out1 = FullConnection(hiddenLayer1, outputLayer1)\n",
    "\n",
    "valNet.addConnection(in_to_hidden1)\n",
    "valNet.addConnection(hidden_to_out1)\n",
    "\n",
    "valNet.sortModules()"
   ]
  },
  {
   "cell_type": "code",
   "execution_count": 55,
   "metadata": {
    "collapsed": false
   },
   "outputs": [],
   "source": [
    "policyNet = FeedForwardNetwork()\n",
    "inLayer2 = LinearLayer(3)\n",
    "hiddenLayer2 = TanhLayer(10)\n",
    "outputLayer2 = ReluLayer(1)\n",
    "\n",
    "policyNet.addInputModule(inLayer2)\n",
    "policyNet.addModule(hiddenLayer2)\n",
    "policyNet.addOutputModule(outputLayer2)\n",
    "\n",
    "in_to_hidden2 = FullConnection(inLayer2, hiddenLayer2)\n",
    "hidden_to_out2 = FullConnection(hiddenLayer2, outputLayer2)\n",
    "\n",
    "policyNet.addConnection(in_to_hidden2)\n",
    "policyNet.addConnection(hidden_to_out2)\n",
    "\n",
    "policyNet.sortModules()"
   ]
  },
  {
   "cell_type": "code",
   "execution_count": 56,
   "metadata": {
    "collapsed": false
   },
   "outputs": [],
   "source": [
    "dsVal = SupervisedDataSet(3,1)\n",
    "dsPolicy = SupervisedDataSet(3,1)\n",
    "trainerVal = BackpropTrainer(valNet, dsVal)\n",
    "trainerPolicy = BackpropTrainer(policyNet, dsPolicy)"
   ]
  },
  {
   "cell_type": "code",
   "execution_count": 57,
   "metadata": {
    "collapsed": false
   },
   "outputs": [
    {
     "name": "stdout",
     "output_type": "stream",
     "text": [
      "1000\n",
      "900\n",
      "800\n",
      "700\n",
      "600\n",
      "500\n",
      "400\n",
      "300\n",
      "200\n",
      "100\n",
      "learning completed\n"
     ]
    }
   ],
   "source": [
    "# as we can see this works for function approximation very well\n",
    "# we can use it for our purpose\n",
    "\n",
    "# now lets implement the actor critic method here and see if it works or not\n",
    "# let us take number of iterations as 10000 initially and then we will see later if it works\n",
    "N = 1000\n",
    "error = [0 for i in range(N)]\n",
    "\n",
    "while N > 0:\n",
    "    # generate the initial state and start state = [price, stocks, 1]\n",
    "    state = [np.random.random()*100, 1000.0, 1]\n",
    "    z = 1.0\n",
    "    t = 0\n",
    "    dsVal.clear()\n",
    "    dsPolicy.clear()\n",
    "    while t < (T-1) and state[1] > 0:\n",
    "        action = min(max(policyNet.activate(state) + np.random.normal(0, 5), 0), state[1])\n",
    "        value = valNet.activate(state)\n",
    "        (reward, newState) = getRewardState(state, action)\n",
    "        #z = 1\n",
    "        # based on above get the delta error value as below\n",
    "        if t == T-2:\n",
    "            delta = reward + getTerminalReward(newState) - value\n",
    "            z = 1.0\n",
    "        else:\n",
    "            delta = reward + valNet.activate(newState) - value\n",
    "        #now we do make neural network run based on the error, delta value above\n",
    "        delta_z = delta*z\n",
    "        z = z*lambbda\n",
    "        dsVal.clear()\n",
    "        dsPolicy.clear()\n",
    "        dsVal.addSample(state, value-delta_z)\n",
    "        dsPolicy.addSample(state, max(action - delta, state[1]))\n",
    "        #print(z)\n",
    "        #error[N-1] = trainer.train()\n",
    "        trainerPolicy.train()\n",
    "        trainerVal.train()\n",
    "        t = t + 1\n",
    "    if N % 100 == 0:\n",
    "        print(N)\n",
    "    #print(N)\n",
    "    N = N -1\n",
    "#print(theta)\n",
    "#print(nu)\n",
    "print('learning completed')"
   ]
  },
  {
   "cell_type": "code",
   "execution_count": 58,
   "metadata": {
    "collapsed": true
   },
   "outputs": [],
   "source": [
    "def actionValue():\n",
    "    u = [0 for i in range(20)]\n",
    "    val = [0 for i in range(20)]\n",
    "    prices = [0 for i in range(20)]\n",
    "    T = 20\n",
    "    #for i in range(1000):\n",
    "    value = 0.0\n",
    "    state = [np.random.random()*100, 1000, 0]\n",
    "    print(state[0])\n",
    "    t = 0\n",
    "    while t < T and state[1] > 0:\n",
    "        if t == T-1:\n",
    "            #u_t = s_t[1]\n",
    "            val[t] = getTerminalReward(state)\n",
    "            u[t] = state[1]\n",
    "        else:\n",
    "            u[t] = policyNet.activate(state)\n",
    "            (reward, s) = getRewardState(state, u[t])\n",
    "            val[t] = valNet.activate(state)\n",
    "            print(action, val[t], state)\n",
    "        prices[t] = state[0]\n",
    "        state = s\n",
    "        t = t + 1\n",
    "    return (val, u, prices)"
   ]
  },
  {
   "cell_type": "code",
   "execution_count": 59,
   "metadata": {
    "collapsed": false
   },
   "outputs": [
    {
     "name": "stdout",
     "output_type": "stream",
     "text": [
      "70.43925841407788\n",
      "[ 996.11391788] [-0.] [70.43925841407788, 1000, 0]\n",
      "[ 996.11391788] [-0.] [array([ 61.97849282]), array([  6.82121026e-13]), 1]\n"
     ]
    },
    {
     "data": {
      "text/plain": [
       "[<matplotlib.lines.Line2D at 0x7ffac857b4e0>]"
      ]
     },
     "execution_count": 59,
     "metadata": {},
     "output_type": "execute_result"
    },
    {
     "data": {
      "image/png": "[encoded data removed]",
      "text/plain": [
       "<matplotlib.figure.Figure at 0x7ffac871a320>"
      ]
     },
     "metadata": {},
     "output_type": "display_data"
    }
   ],
   "source": [
    "(val, u, price) = actionValue()\n",
    "plt.figure(figsize=(12,8))\n",
    "plt.plot(price)"
   ]
  },
  {
   "cell_type": "code",
   "execution_count": 46,
   "metadata": {
    "collapsed": false
   },
   "outputs": [
    {
     "data": {
      "text/plain": [
       "[<matplotlib.lines.Line2D at 0x7ffac8638358>]"
      ]
     },
     "execution_count": 46,
     "metadata": {},
     "output_type": "execute_result"
    },
    {
     "data": {
      "image/png": "[encoded data removed]",
      "text/plain": [
       "<matplotlib.figure.Figure at 0x7ffac8872518>"
      ]
     },
     "metadata": {},
     "output_type": "display_data"
    }
   ],
   "source": [
    "plt.figure(figsize=(12,8))\n",
    "plt.plot(val)"
   ]
  },
  {
   "cell_type": "code",
   "execution_count": 48,
   "metadata": {
    "collapsed": false
   },
   "outputs": [
    {
     "data": {
      "text/plain": [
       "array([-0.])"
      ]
     },
     "execution_count": 48,
     "metadata": {},
     "output_type": "execute_result"
    }
   ],
   "source": [
    "valNet.activate([23, 1000, 0])"
   ]
  },
  {
   "cell_type": "code",
   "execution_count": 50,
   "metadata": {
    "collapsed": false
   },
   "outputs": [
    {
     "data": {
      "text/plain": [
       "array([-0.])"
      ]
     },
     "execution_count": 50,
     "metadata": {},
     "output_type": "execute_result"
    }
   ],
   "source": [
    "policyNet.activate([23, 1000, 0])"
   ]
  },
  {
   "cell_type": "code",
   "execution_count": null,
   "metadata": {
    "collapsed": true
   },
   "outputs": [],
   "source": []
  }
 ],
 "metadata": {
  "kernelspec": {
   "display_name": "Python 3",
   "language": "python",
   "name": "python3"
  },
  "language_info": {
   "codemirror_mode": {
    "name": "ipython",
    "version": 3
   },
   "file_extension": ".py",
   "mimetype": "text/x-python",
   "name": "python",
   "nbconvert_exporter": "python",
   "pygments_lexer": "ipython3",
   "version": "3.6.0"
  }
 },
 "nbformat": 4,
 "nbformat_minor": 2
}
