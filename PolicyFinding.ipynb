{
 "cells": [
  {
   "cell_type": "markdown",
   "metadata": {},
   "source": [
    "# Optimal Portfolio Liquidation in Dark Pool\n",
    "\n",
    "Lets start with the simple ploicy that we will distribute the orders equally throughtout time and also in market order and dark pool order,\n",
    "\n",
    "i.e. if $ X_0 $ is the amount of stocks available to liquidate we will divide it into equal blocks in time i.e. $ x_t = X_0/T $ and $ u_t = x_t/2 $ and $ z_t = x_t/2 $.\n",
    "\n",
    "We will then generate the sample paths and the total reward accumultaed using this policy. Based on that we will update the policy and repeat above."
   ]
  },
  {
   "cell_type": "markdown",
   "metadata": {},
   "source": [
    "Again lets assume following dynamics of the market (update later)\n",
    "\n",
    "State of the system is described by following variables:\n",
    "\n",
    "$ X_t $ : amount of stocks available to liquidiate at time $t$.\n",
    "\n",
    "$ p_t $ : price of the stock at time $t$.\n",
    "\n",
    "$ y_t $ : executed stocks in dark pool at time $t-1$.\n",
    "\n",
    "Action set is given by \n",
    "\n",
    "$x_t$ : Market Order and $z_t$ : Dark Order\n",
    "\n",
    "Assume the following reward function \n",
    "$ c_t(X_t, p_t, y_t) = p_t \\cdot x_t + d_t \\cdot min(z_t,y_t) $"
   ]
  },
  {
   "cell_type": "code",
   "execution_count": 1,
   "metadata": {
    "collapsed": true
   },
   "outputs": [],
   "source": [
    "import numpy as np\n",
    "import scipy as sc\n",
    "import matplotlib.pyplot as plt\n",
    "%matplotlib inline"
   ]
  },
  {
   "cell_type": "code",
   "execution_count": 2,
   "metadata": {
    "collapsed": true
   },
   "outputs": [],
   "source": [
    "# simple policy as discussed above \n",
    "policy = [[50,50] for i in range(10)]"
   ]
  },
  {
   "cell_type": "code",
   "execution_count": 3,
   "metadata": {
    "collapsed": true
   },
   "outputs": [],
   "source": [
    "#generate sample path using above policy and dynamics as given\n",
    "state = [0, 0.0, 0]"
   ]
  },
  {
   "cell_type": "code",
   "execution_count": 46,
   "metadata": {
    "collapsed": true
   },
   "outputs": [],
   "source": [
    "def getMarketPrice(x_t, p_t):\n",
    "    #print(\"in market\", x_t)\n",
    "    if x_t < 4 or p_t < 3.0:\n",
    "        return p_t\n",
    "    elif x_t <= 40:\n",
    "        return p_t*(1-0.000008*x_t)\n",
    "    else:\n",
    "        return p_t*(1- 0.01*np.log(x_t))"
   ]
  },
  {
   "cell_type": "code",
   "execution_count": 5,
   "metadata": {
    "collapsed": true
   },
   "outputs": [],
   "source": [
    "def getDarkPrice(z_t, p_t):\n",
    "    #print(\"in dark\", x_t)\n",
    "    d_t = max(min(p_t+np.random.normal(0,1), 100), 0)\n",
    "    return d_t"
   ]
  },
  {
   "cell_type": "code",
   "execution_count": 6,
   "metadata": {
    "collapsed": false
   },
   "outputs": [],
   "source": [
    "# Generate 1000 samples and stote the results\n",
    "# since we are assuming a finite horizon problem, lets consider the time also as feature\n",
    "\n",
    "samples = [[0, 0, 0.0, 0 , 0.0] for i in range(10000)]\n",
    "j = 0\n",
    "for i in range(909):\n",
    "    X_t = int(np.random.random()*1000)\n",
    "    y_t = np.random.randint(0, 100)\n",
    "    p_t = np.random.random()*100\n",
    "    value = 0.0\n",
    "    t = 0\n",
    "    # loop to visit sample path and calculate reward\n",
    "    while X_t >0 and t < 10:\n",
    "        #for t in range(10):\n",
    "        samples[j][0] = X_t\n",
    "        samples[j][1] = y_t\n",
    "        samples[j][2] = p_t\n",
    "        samples[j][3] = t\n",
    "        x_t = int(X_t/(2*(10-t)))\n",
    "        p_t_ = getMarketPrice(x_t, p_t)\n",
    "        y_t = np.random.randint(0, 100)\n",
    "        d_t = getDarkPrice(x_t, p_t)\n",
    "        value = value + p_t_*x_t + d_t*min(y_t, x_t)\n",
    "        samples[j][4] = value\n",
    "        p_t = p_t_ + np.random.normal(1,1)\n",
    "        X_t = X_t - (x_t + min(x_t, y_t))\n",
    "        t = t + 1\n",
    "        j = j + 1\n",
    "    samples[j][0] = X_t\n",
    "    samples[j][1] = y_t\n",
    "    samples[j][2] = p_t\n",
    "    samples[j][3] = t\n",
    "    value = value + X_t*getMarketPrice(X_t, p_t)\n",
    "    samples[j][4] = value\n",
    "    #print(value)\n",
    "    j = j + 1\n",
    "    #print(j)"
   ]
  },
  {
   "cell_type": "code",
   "execution_count": 7,
   "metadata": {
    "collapsed": false
   },
   "outputs": [],
   "source": [
    "samples = np.array(samples)"
   ]
  },
  {
   "cell_type": "code",
   "execution_count": 8,
   "metadata": {
    "collapsed": false
   },
   "outputs": [
    {
     "data": {
      "text/plain": [
       "[<matplotlib.lines.Line2D at 0x7ff78c4fc390>]"
      ]
     },
     "execution_count": 8,
     "metadata": {},
     "output_type": "execute_result"
    },
    {
     "data": {
      "image/png": "[encoded data removed]",
      "text/plain": [
       "<matplotlib.figure.Figure at 0x7ff78c52c358>"
      ]
     },
     "metadata": {},
     "output_type": "display_data"
    }
   ],
   "source": [
    "plt.figure(figsize=(12,8))\n",
    "plt.plot(samples[:,3],samples[:,4])"
   ]
  },
  {
   "cell_type": "code",
   "execution_count": 68,
   "metadata": {
    "collapsed": false
   },
   "outputs": [
    {
     "name": "stdout",
     "output_type": "stream",
     "text": [
      "11.093292387472275 0.0\n",
      "10.6593202372 10.48718813869644 50 60 1057.3254188\n",
      "11.8467210009 12.9440479141 50 14 773.552720845\n",
      "10.5739274407 12.2483912354 52 49 1150.01539745\n",
      "9.52433160596 10.6379429351 52 76 1048.43827614\n",
      "9.76780168715 10.5970158449 52 87 1058.97051167\n",
      "10.0261193432 10.4915884449 52 68 1066.92080498\n",
      "12.218233794 13.9852353771 52 33 1096.86092474\n",
      "16.2689562141 17.3111498186 56 42 1638.12984037\n",
      "17.1002584293 17.5887921106 60 62 2081.34303239\n",
      "15.6938254429 16.6920727078 60 32 1475.77585323\n"
     ]
    }
   ],
   "source": [
    "X_t = 1000\n",
    "y_t = np.random.randint(0, 100)\n",
    "p_t = np.random.random()*100\n",
    "value = 0.0\n",
    "print(p_t, value)\n",
    "#samples[i][0] = X_t\n",
    "#samples[i][1] = y_t\n",
    "#samples[i][2] = p_t\n",
    "    # loop to visit sample path and calculate reward\n",
    "while X_t > 0:\n",
    "    x_t = int(X_t/(2*(10-t)))\n",
    "    p_t_ = getMarketPrice(x_t, p_t)\n",
    "    y_t = np.random.randint(0, 100)\n",
    "    d_t = getDarkPrice(x_t, p_t)\n",
    "    val = p_t_*x_t + d_t*min(y_t, x_t)\n",
    "    value = value + val\n",
    "    p_t = p_t_ + np.random.normal(1,1)\n",
    "    X_t = X_t - (x_t + min(x_t, y_t))\n",
    "    #samples[i][3] = value\n",
    "    print(p_t_, d_t, x_t, y_t, val)"
   ]
  },
  {
   "cell_type": "code",
   "execution_count": 9,
   "metadata": {
    "collapsed": false
   },
   "outputs": [],
   "source": [
    "# once samples have been generated, fit the linear regression model or better neural network\n",
    "import sklearn.neural_network as net"
   ]
  },
  {
   "cell_type": "code",
   "execution_count": 10,
   "metadata": {
    "collapsed": false
   },
   "outputs": [],
   "source": [
    "mlp = net.MLPRegressor(hidden_layer_sizes=4, max_iter=10000)"
   ]
  },
  {
   "cell_type": "code",
   "execution_count": 11,
   "metadata": {
    "collapsed": false
   },
   "outputs": [
    {
     "data": {
      "text/plain": [
       "MLPRegressor(activation='relu', alpha=0.0001, batch_size='auto', beta_1=0.9,\n",
       "       beta_2=0.999, early_stopping=False, epsilon=1e-08,\n",
       "       hidden_layer_sizes=4, learning_rate='constant',\n",
       "       learning_rate_init=0.001, max_iter=10000, momentum=0.9,\n",
       "       nesterovs_momentum=True, power_t=0.5, random_state=None,\n",
       "       shuffle=True, solver='adam', tol=0.0001, validation_fraction=0.1,\n",
       "       verbose=False, warm_start=False)"
      ]
     },
     "execution_count": 11,
     "metadata": {},
     "output_type": "execute_result"
    }
   ],
   "source": [
    "mlp.fit(samples[:,[0,1,2,3]], samples[:,4])"
   ]
  },
  {
   "cell_type": "code",
   "execution_count": 12,
   "metadata": {
    "collapsed": false
   },
   "outputs": [
    {
     "data": {
      "text/plain": [
       "0.7157589662950683"
      ]
     },
     "execution_count": 12,
     "metadata": {},
     "output_type": "execute_result"
    }
   ],
   "source": [
    "mlp.score(samples[:,[0,1,2,3]], samples[:,4], sample_weight=None)"
   ]
  },
  {
   "cell_type": "code",
   "execution_count": 13,
   "metadata": {
    "collapsed": false
   },
   "outputs": [
    {
     "data": {
      "text/plain": [
       "{'activation': 'relu',\n",
       " 'alpha': 0.0001,\n",
       " 'batch_size': 'auto',\n",
       " 'beta_1': 0.9,\n",
       " 'beta_2': 0.999,\n",
       " 'early_stopping': False,\n",
       " 'epsilon': 1e-08,\n",
       " 'hidden_layer_sizes': 4,\n",
       " 'learning_rate': 'constant',\n",
       " 'learning_rate_init': 0.001,\n",
       " 'max_iter': 10000,\n",
       " 'momentum': 0.9,\n",
       " 'nesterovs_momentum': True,\n",
       " 'power_t': 0.5,\n",
       " 'random_state': None,\n",
       " 'shuffle': True,\n",
       " 'solver': 'adam',\n",
       " 'tol': 0.0001,\n",
       " 'validation_fraction': 0.1,\n",
       " 'verbose': False,\n",
       " 'warm_start': False}"
      ]
     },
     "execution_count": 13,
     "metadata": {},
     "output_type": "execute_result"
    }
   ],
   "source": [
    "mlp.get_params()"
   ]
  },
  {
   "cell_type": "markdown",
   "metadata": {
    "collapsed": true
   },
   "source": [
    "after every fit, we need to update the policy and refit the function and keep doing that\n",
    "We will be considering Gambel distribution for dark pool, cdf of whihc is given as\n",
    "### $$F(x;\\mu,\\beta) = e^{-e^{\\frac{-(x-\\mu)}{\\beta}}}$$\n",
    "and probability density function is given by\n",
    "### $$ f(x;\\mu, \\beta) = e^{-(x+e^{-x})} $$\n",
    "Mean is given as \n",
    "### $$ E{x} = \\mu + \\beta\\gamma $$ \n",
    "where $\\gamma$ is Euler–Mascheroni constant which is equal to $0.57721566490153286060651209008240243104215933593992$ to 50 decimal places.\n",
    "\n",
    "For our purpose we consider that the value of $\\mu$ is same as $y_{t-1}$ and value of $\\beta$ is taken as some parametric form based on price and available stocks.\n",
    "\n",
    "properties of beta should be,\n",
    "1. Should increase with price in market order.\n",
    "2. Should increase with the value of $y_t $.\n",
    "3. Should increase with value of $X_t$.\n",
    "5. We dont want beta to be larger than 10.\n",
    "\n",
    "\n",
    "# $$ \\beta_t = \\log\\frac{k_tp_tX_t}{10(z_t-y_t)}$$"
   ]
  },
  {
   "cell_type": "code",
   "execution_count": 160,
   "metadata": {
    "collapsed": false
   },
   "outputs": [],
   "source": [
    "# lets draw the above beta function for some value of p_t and X_t\n",
    "p_t = 95.5\n",
    "X_t = 1000\n",
    "z_t = 89\n",
    "y_t = 65\n",
    "k_t = [i for i in range(1,20)]\n",
    "beta = [np.log((k*p_t*0.1*X_t)/((z_t-y_t/2))) for k in k_t]"
   ]
  },
  {
   "cell_type": "code",
   "execution_count": 161,
   "metadata": {
    "collapsed": false
   },
   "outputs": [
    {
     "data": {
      "text/plain": [
       "[<matplotlib.lines.Line2D at 0x7ff779bacc88>]"
      ]
     },
     "execution_count": 161,
     "metadata": {},
     "output_type": "execute_result"
    },
    {
     "data": {
      "image/png": "[encoded data removed]",
      "text/plain": [
       "<matplotlib.figure.Figure at 0x7ff779c39588>"
      ]
     },
     "metadata": {},
     "output_type": "display_data"
    }
   ],
   "source": [
    "plt.figure(figsize=(12,8))\n",
    "plt.plot(k_t, beta)"
   ]
  },
  {
   "cell_type": "markdown",
   "metadata": {},
   "source": [
    "We will consider the policy as follows, we apply to dark pool, the mean value based on Gambell distribution and for the market orders we define a parametric function based on time, availbale stocks and price.\n",
    "\n",
    "Properties of the function should be,\n",
    "1. It should be inversely proprtional to change in price.\n",
    "2. It should be increase as time increases.\n",
    "3. More stocks left, more should be applied.\n",
    "\n",
    "## $$ x_t = (1-e^{-\\sqrt{\\frac{k}{T-t}}})\\frac{p_tX_t}{100}$$"
   ]
  },
  {
   "cell_type": "code",
   "execution_count": 231,
   "metadata": {
    "collapsed": false
   },
   "outputs": [],
   "source": [
    "p_t = 6.7\n",
    "X_t = 1000\n",
    "T = 10\n",
    "t = 5\n",
    "y = [i for i in range(100)]\n",
    "x_t = [10*p_t*(1- np.exp(-1* np.sqrt(y_/9.0))) for y_ in y]"
   ]
  },
  {
   "cell_type": "code",
   "execution_count": 232,
   "metadata": {
    "collapsed": false
   },
   "outputs": [
    {
     "data": {
      "text/plain": [
       "[<matplotlib.lines.Line2D at 0x7ff779975860>]"
      ]
     },
     "execution_count": 232,
     "metadata": {},
     "output_type": "execute_result"
    },
    {
     "data": {
      "image/png": "[encoded data removed]",
      "text/plain": [
       "<matplotlib.figure.Figure at 0x7ff77998b198>"
      ]
     },
     "metadata": {},
     "output_type": "display_data"
    }
   ],
   "source": [
    "plt.figure(figsize=(12,8))\n",
    "plt.plot(y,x_t)"
   ]
  },
  {
   "cell_type": "code",
   "execution_count": 227,
   "metadata": {
    "collapsed": false
   },
   "outputs": [
    {
     "name": "stdout",
     "output_type": "stream",
     "text": [
      "46526.3124483 8 1 978\n",
      "46526.3124483 8 1 1048\n",
      "46526.3124483 8 1 1062\n",
      "46526.3124483 8 1 1057\n",
      "50222.4866439 12 5 1172\n",
      "50222.4866439 12 5 1109\n",
      "50222.4866439 12 5 1045\n",
      "50222.4866439 12 5 826\n",
      "50222.4866439 12 5 725\n"
     ]
    }
   ],
   "source": [
    "# now based on the above values which was approximated, we need to update the policy.\n",
    "# lets find out one step policy first and see if it works or fails\n",
    "X_t = 1000\n",
    "z_t = np.random.randint(0, 100)\n",
    "y_t = min(np.random.randint(0, 100), z_t)\n",
    "p_t = np.random.random()*100\n",
    "\n",
    "t = 1\n",
    "gamma = 0.577\n",
    "maximum = 0.0\n",
    "for i in range(1, 10):\n",
    "    if z_t == y_t:\n",
    "        beta = 10\n",
    "    else:\n",
    "        beta = np.log((i*p_t*0.1*X_t)/((z_t-y_t/2)))\n",
    "    #print(beta)\n",
    "    z_t = int(y_t + gamma*beta)\n",
    "    X_t = X_t - z_t\n",
    "    for k in range(1,20):\n",
    "        x_t = (X_t/100)*p_t*(1- np.exp(-1* np.sqrt(k/t)))\n",
    "        p_t = getMarketPrice(x_t, p_t)\n",
    "        d_t = getDarkPrice(z_t, p_t)\n",
    "        y_t = min(np.random.randint(0, 100), z_t)\n",
    "        if z_t > y_t:\n",
    "            X_t = int(X_t + (z_t-y_t) - x_t)\n",
    "        value = x_t*p_t + min(z_t, y_t)*d_t + mlp.predict(np.array([X_t, y_t, p_t, 10-t]).reshape(1,-1))[0]\n",
    "        \n",
    "        #print(value)\n",
    "        if value > maximum:\n",
    "            maximum = value\n",
    "            k_t = k\n",
    "            j_t = i\n",
    "    print(maximum, k_t, j_t, X_t)\n",
    "            "
   ]
  },
  {
   "cell_type": "code",
   "execution_count": 168,
   "metadata": {
    "collapsed": false
   },
   "outputs": [],
   "source": [
    "val = mlp.predict(np.array([1000, 32, 56.6, 9]).reshape(1,-1))"
   ]
  },
  {
   "cell_type": "code",
   "execution_count": null,
   "metadata": {
    "collapsed": true
   },
   "outputs": [],
   "source": []
  }
 ],
 "metadata": {
  "kernelspec": {
   "display_name": "Python 3",
   "language": "python",
   "name": "python3"
  },
  "language_info": {
   "codemirror_mode": {
    "name": "ipython",
    "version": 3
   },
   "file_extension": ".py",
   "mimetype": "text/x-python",
   "name": "python",
   "nbconvert_exporter": "python",
   "pygments_lexer": "ipython3",
   "version": "3.6.0"
  }
 },
 "nbformat": 4,
 "nbformat_minor": 2
}
